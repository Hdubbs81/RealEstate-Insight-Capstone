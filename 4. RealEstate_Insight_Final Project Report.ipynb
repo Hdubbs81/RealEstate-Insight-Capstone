{
 "cells": [
  {
   "cell_type": "markdown",
   "id": "c5fd5209",
   "metadata": {},
   "source": [
    "![NYC](./Images/images.jpg)"
   ]
  },
  {
   "cell_type": "markdown",
   "id": "5157b81e",
   "metadata": {},
   "source": [
    "# NYC Housing Price Prediction Model\n",
    "\n",
    "The New York City (NYC) housing market is one of the most dynamic and complex real estate environments in the world. With its diverse neighborhoods, fluctuating demand, and unique economic pressures, predicting housing prices in NYC poses a significant challenge. This capstone project aims to develop a robust housing price prediction model tailored specifically for NYC, leveraging advanced machine learning techniques and comprehensive data analysis."
   ]
  },
  {
   "cell_type": "markdown",
   "id": "4d543f3f",
   "metadata": {},
   "source": [
    "# 1. Data"
   ]
  },
  {
   "cell_type": "markdown",
   "id": "fb8e246f",
   "metadata": {},
   "source": [
    "The dataset for this project was downloaded from Kaggle and has been filtered and cleaned to include housing data from New York, extracted via the Zillow API. This comprehensive dataset provides detailed information about various properties, capturing a wide range of features relevant to real estate analysis. The primary goal of this project is to develop a predictive model that analyzes housing data to forecast property prices accurately. By leveraging this data, the model aims to provide valuable insights into the New York housing market, potentially aiding buyers, sellers, and investors in making informed decisions.\n",
    "\n",
    "Link to Kaggle dataset: https://www.kaggle.com/datasets/ericpierce/new-york-housing-zillow-api"
   ]
  },
  {
   "cell_type": "markdown",
   "id": "5d5dd1c4",
   "metadata": {},
   "source": [
    "# 2. Data Cleaning"
   ]
  },
  {
   "cell_type": "markdown",
   "id": "271fffb6",
   "metadata": {},
   "source": [
    "[Data Cleaning Notebook](./1.%20RealEstate_Insight_Data_Wrangling.ipynb)"
   ]
  },
  {
   "cell_type": "markdown",
   "id": "04c01a42",
   "metadata": {},
   "source": [
    "The data cleaning process is a critical step in preparing our dataset for the NYC housing price prediction model. This section outlines the steps undertaken to clean and preprocess the data, ensuring its quality and suitability for modeling.\n",
    "\n",
    "**Data Collection and Initial Inspection**\n",
    "The initial dataset was collected from various sources, including real estate listings and public records. The dataset contained a wide range of attributes related to property details, such as location, size, price, and various amenities.\n",
    "\n",
    "**Steps in Data Cleaning**\n",
    "1. Column Selection and Renaming\n",
    "To focus on the most relevant features for our prediction model, we selected specific columns from the original dataset. To improve clarity and consistency, the selected columns were renamed:\n",
    "\n",
    "    - address/city to city\n",
    "    - address/streetAddress to street_address\n",
    "    - address/state to state\n",
    "    - address/zipcode to zipcode\n",
    "    - resoFactsStats/atAGlanceFacts/0/factValue to house_type\n",
    "    - schools/0/name to school_name\n",
    "    - schools/0/rating to school_rating\n",
    "    - schools/2/name to school_name_2\n",
    "    - schools/2/rating to school_rating_2\n",
    "    - livingArea to sqft\n",
    "    - resoFactsStats/atAGlanceFacts/2/factValue to heating\n",
    "    - resoFactsStats/atAGlanceFacts/3/factValue to cooling\n",
    "    - resoFactsStats/atAGlanceFacts/4/factValue to parking\n",
    "    - resoFactsStats/basement to basement\n",
    "    - resoFactsStats/taxAssessedValue to tax_assessed_value\n",
    "    - resoFactsStats/taxAnnualAmount to tax_amount\n",
    "    - resoFactsStats/stories to stories\n",
    "    - resoFactsStats/lotSize to lot_size \n",
    "<br>\n",
    "\n",
    "2. **Handling Missing Values**\n",
    "We identified and addressed missing values in the dataset:\n",
    "\n",
    "    Columns with significant missing data were analyzed to determine if imputation or removal was necessary. For numerical columns, The DataFrame was grouped by specified columns and iterative imputation on numerical columns was applied within each group. Non-numeric values were converted to NaN which ensured that only valid groups (with enough data) were imputed. This approach is particularly useful when different groups within the data might have distinct patterns of missing values. Remaining missing values were filled using the mean values grouped by relevant categorical features, zipcode and house_type.\n",
    "<br>\n",
    "\n",
    "3. **Filtering Outliers and Invalid Data**\n",
    "    To maintain data integrity, outliers and invalid data entries were filtered:\n",
    "\n",
    "    Properties classified as \"Vacant Land\" were removed, as they do not represent typical housing units. Rows with improbably small square footage (e.g., less than 500 sqft) were reviewed, and missing values were assigned where appropriate.\n",
    "<br>\n",
    "\n",
    "4. **Removing Duplicates**\n",
    "    Duplicate entries were identified and removed to ensure each property was represented uniquely in the dataset.\n",
    "<br>\n",
    "<br>\n",
    "5. **Data Transformation**\n",
    "    Additional transformations were applied to standardize and prepare the data for modeling:\n",
    "\n",
    "    Bedrooms and bathrooms were rounded to the nearest 0.5 to maintain consistency. All numerical values were reviewed for accuracy and consistency.\n",
    "<br>\n",
    "\n",
    "6. **Final Data Preparation**\n",
    "    The cleaned and transformed dataset was saved for subsequent modeling steps, ensuring that it was free of null values and ready for analysis.\n",
    "\n",
    "    By carefully executing these data cleaning steps, we ensured that our dataset was of high quality and well-suited for building a reliable NYC housing price prediction model."
   ]
  },
  {
   "cell_type": "markdown",
   "id": "60e31581",
   "metadata": {},
   "source": [
    "# 3. EDA"
   ]
  },
  {
   "cell_type": "markdown",
   "id": "85d3bffb",
   "metadata": {},
   "source": [
    "[EDA Notebook](./2.%20RealEstate_Insight_EDA.ipynb)"
   ]
  },
  {
   "cell_type": "markdown",
   "id": "78588079",
   "metadata": {},
   "source": [
    "Exploratory Data Analysis (EDA) is a critical step in understanding the structure and nuances of the dataset used for stock market prediction. This section details the insights gained from the EDA, highlighting key patterns, trends, and relationships within the data."
   ]
  },
  {
   "cell_type": "markdown",
   "id": "7d06912e",
   "metadata": {},
   "source": [
    "## Count of Houses by Borough\n",
    "**Observations:**\n",
    "- The distribution of housing data shows that Queens and Staten Island have the highest number of records, suggesting more extensive residential areas or better data coverage. Brooklyn and the Bronx have moderate data coverage, while Manhattan has the least."
   ]
  },
  {
   "cell_type": "markdown",
   "id": "da63e565",
   "metadata": {},
   "source": [
    "![Count](./Images/Count.png)"
   ]
  },
  {
   "cell_type": "markdown",
   "id": "26b19f95",
   "metadata": {},
   "source": [
    "## Average House Prices by Borough\n",
    "\n",
    "**Observations:**\n",
    "- The average house price data highlights significant disparities across different boroughs of New York City. \n",
    "- Manhattan stands out with an exceptionally high average price, indicating a market for luxury properties. \n",
    "- Brooklyn also has a relatively high average price, reflecting its desirability and development. \n",
    "- In contrast, Queens, the Bronx, and Staten Island offer more affordable housing options, making them accessible to a wider demographic. "
   ]
  },
  {
   "cell_type": "markdown",
   "id": "b8e36939",
   "metadata": {},
   "source": [
    "![Price](./Images/Price.png)"
   ]
  },
  {
   "cell_type": "markdown",
   "id": "ed966c06",
   "metadata": {},
   "source": [
    "### Distirbution of House Prices by Borough"
   ]
  },
  {
   "cell_type": "markdown",
   "id": "032c5b5d",
   "metadata": {},
   "source": [
    "### Bronx\n",
    "**Observations:** The Bronx housing market predominantly features affordable homes, as indicated by the clustering of prices below 1 million. However, the presence of some high-priced properties results in a right-skewed distribution and a high standard deviation. This wide range of prices reflects the diversity in the Bronx's real estate market, with both affordable and high-end properties available."
   ]
  },
  {
   "cell_type": "markdown",
   "id": "996e919d",
   "metadata": {},
   "source": [
    "![Bronx](./Images/Bronx.png)"
   ]
  },
  {
   "cell_type": "markdown",
   "id": "4b67a0bc",
   "metadata": {},
   "source": [
    "### Brooklyn\n",
    "**Observations:** The Brooklyn housing market predominantly features properties priced below 2 million, as indicated by the clustering of prices at the lower end. However, the presence of some high-priced properties results in a right-skewed distribution and a high standard deviation. This wide range of prices reflects the diversity in Brooklyn's real estate market, with both affordable and high-end properties available. The median price of 965,000 dollars suggests that half of the homes are priced below this value, indicating a generally higher cost of living compared to the Bronx, but still with a significant number of affordable options."
   ]
  },
  {
   "cell_type": "markdown",
   "id": "dc4bbd41",
   "metadata": {},
   "source": [
    "![Brooklyn](./Images/Brooklyn.png)"
   ]
  },
  {
   "cell_type": "markdown",
   "id": "63d5a4bc",
   "metadata": {},
   "source": [
    "### Manhattan\n",
    "**Observations:** The Manhattan housing market predominantly features properties priced below 2 million, as indicated by the clustering of prices at the lower end. However, the presence of some high-priced properties results in a right-skewed distribution and a very high standard deviation. This wide range of prices reflects the diversity in Manhattan's real estate market, with both affordable and high-end properties available. The median price of 1,875,000 dollars suggests that half of the homes are priced below this value, indicating a higher cost of living compared to other boroughs, but still with a significant number of more affordable options."
   ]
  },
  {
   "cell_type": "markdown",
   "id": "f992e52e",
   "metadata": {},
   "source": [
    "![Manhattan](./Images/Manhattan.png)"
   ]
  },
  {
   "cell_type": "markdown",
   "id": "e88260ac",
   "metadata": {},
   "source": [
    "### Queens\n",
    "**Observations:** The Queens housing market predominantly features properties priced below 1 million, as indicated by the clustering of prices at the lower end. However, the presence of some high-priced properties results in a right-skewed distribution and a very high standard deviation. This wide range of prices reflects the diversity in Queens' real estate market, with both affordable and high-end properties available. The median price of 728,888 dollars suggests that half of the homes are priced below this value, indicating a relatively lower cost of living compared to Manhattan, but still with a significant number of more affordable options."
   ]
  },
  {
   "cell_type": "markdown",
   "id": "754adf71",
   "metadata": {},
   "source": [
    "![Queens](./Images/Queens.png)"
   ]
  },
  {
   "cell_type": "markdown",
   "id": "65dc56be",
   "metadata": {},
   "source": [
    "### Staten Island\n",
    "**Observations:** The Staten Island housing market predominantly features properties priced below 1 million, as indicated by the clustering of prices at the lower end. However, the presence of some high-priced properties results in a right-skewed distribution and a high standard deviation. This wide range of prices reflects the diversity in Staten Island's real estate market, with both affordable and high-end properties available. The median price of 572,500 dollars suggests that half of the homes are priced below this value, indicating a relatively lower cost of living compared to other NYC boroughs, but still with a significant number of more affordable options."
   ]
  },
  {
   "cell_type": "markdown",
   "id": "a22bee9b",
   "metadata": {},
   "source": [
    "![SI](./Images/SI.png)"
   ]
  },
  {
   "cell_type": "markdown",
   "id": "28d7adea",
   "metadata": {},
   "source": [
    "## Distribution of House Types Frequency\n",
    "\n",
    "**Observations:**\n",
    "1. **Dominance of Single Family Homes:**\n",
    "- Single-family homes are the most prevalent house type, with a frequency approaching 20,000. This indicates that the majority of properties in the dataset are single-family homes.\n",
    "\n",
    "2. **Significant Presence of Multiple Occupancy and Residential Properties:**\n",
    "- Multiple occupancy houses are the second most common type, with a frequency over 12,500. This suggests a substantial number of properties are designed for multiple families or tenants.\n",
    "- Residential properties, which likely include a variety of housing types under a broader category, are also common, with a frequency around 10,000.\n",
    "\n",
    "3. **Condos and Residential Income Properties:**\n",
    "- Condominiums (Condos) have a significant presence, with a frequency close to 7,500, indicating a notable segment of the housing market is made up of condos.\n",
    "- Residential income properties, which might be used for rental purposes, have a moderate frequency, suggesting a portion of the market is dedicated to income-generating properties.\n",
    "\n",
    "4. **Less Common House Types:**\n",
    "- Townhouses and apartments have lower frequencies, with townhouses slightly more common than apartments. This indicates these property types are less prevalent in the dataset.\n",
    "- The 'Other' category, which might include less common or miscellaneous house types, and mobile/manufactured homes, have the lowest frequencies, indicating they are the least common types in the dataset."
   ]
  },
  {
   "cell_type": "markdown",
   "id": "701d047c",
   "metadata": {},
   "source": [
    "![Type_Count](./Images/Type_Count.png)"
   ]
  },
  {
   "cell_type": "markdown",
   "id": "86372245",
   "metadata": {},
   "source": [
    "## Average Price by House Types\n",
    "\n",
    "**Observations:**\n",
    "- This visualization highlights the significant variation in average house prices across different house types. Single Family and Townhouse properties command the highest prices, reflecting their premium nature. In contrast, Apartment, Condo, and Multiple Occupancy houses are more moderately priced, while Other and Mobile/Manufactured homes are the most affordable. The variability within each house type also offers insights into the range of prices buyers can expect in the market. "
   ]
  },
  {
   "cell_type": "markdown",
   "id": "99cc409c",
   "metadata": {},
   "source": [
    "![Type_Price](./Images/Type_Price.png)"
   ]
  },
  {
   "cell_type": "markdown",
   "id": "359223d7",
   "metadata": {},
   "source": [
    "## Correlation Heat Map\n",
    "\n",
    "**Observations:**\n",
    "1. **Price Correlations:**\n",
    "- Bathrooms (0.43): Moderate positive correlation with price, indicating that more bathrooms tend to increase the property price.\n",
    "- Bedrooms (0.36): Moderate positive correlation with price, suggesting that houses with more bedrooms generally have higher prices.\n",
    "- Square Footage (sqft) (0.41): Moderate positive correlation with price, indicating larger homes tend to be more expensive.\n",
    "- Tax Assessed Value (0.75): Strong positive correlation with price, showing that properties with higher assessed values also have higher prices.\n",
    "- Latitude and Longitude show very low correlation with price, indicating that location in terms of these coordinates is not a strong determinant of price in this dataset.\n",
    "\n",
    "2. **High Correlations Between Other Features:**\n",
    "- Longitude and Zipcode (0.65): Strong correlation, indicating that longitude values are closely related to specific zip codes.\n",
    "- Bedrooms and Bathrooms (0.67): High positive correlation, suggesting that houses with more bedrooms also tend to have more bathrooms.\n",
    "- Heating and Cooling (0.55): Moderate positive correlation, showing that houses with heating systems are likely to have cooling systems as well.\n",
    "\n",
    "3. **Feature Interrelationships:**\n",
    "- Year Built has very low correlations with most features, indicating it does not vary significantly with other features.\n",
    "- Latitude and Longitude (0.59): Moderate positive correlation, suggesting some regional clustering of properties in the dataset.\n",
    "- Tax Assessed Value and Tax Amount (0.39): Moderate positive correlation, showing that higher assessed values generally lead to higher tax amounts.\n",
    "- Heating and Cooling features are positively correlated (0.55), suggesting houses with heating systems often have cooling systems."
   ]
  },
  {
   "cell_type": "markdown",
   "id": "d083600f",
   "metadata": {},
   "source": [
    "![Corr](./Images/Corr.png)"
   ]
  },
  {
   "cell_type": "markdown",
   "id": "53e3da4b",
   "metadata": {},
   "source": [
    "# 4. Modeling"
   ]
  },
  {
   "cell_type": "markdown",
   "id": "35d69ad5",
   "metadata": {},
   "source": [
    "[Pre-Processing and Modeling Notebook](./3.%20RealEstate_Insight_Pre_Processing_and_Modeling.ipynb)"
   ]
  },
  {
   "cell_type": "markdown",
   "id": "482614c5",
   "metadata": {},
   "source": [
    "**Model Selection:** We explored several regression models to identify the best fit for predicting NYC\n",
    "house prices:\n",
    "- GradientBoostingRegressor\n",
    "- Random Forest Regressor\n",
    "- XGBoost Regressor<br>\n",
    "\n",
    "Ultimately, the XGBoost Regressor Model was selected as it was the best performing model with\n",
    "the lowest RMSE of .2870797035074488\n",
    "\n",
    "XGBoost Regressor is a variant of XGBoost specifically designed for regression tasks, which aim to predict continuous values (e.g., housing prices)."
   ]
  },
  {
   "cell_type": "markdown",
   "id": "3f2c0bc4",
   "metadata": {},
   "source": [
    "### Pros of Using XGBoost Regressor for House Price Prediction\n",
    "\n",
    "- **High Predictive Accuracy:**\n",
    "    - XGBoost is known for its superior performance in terms of predictive accuracy due to its ability to capture complex non-linear relationships and interactions between features.\n",
    "- **Efficiency:**\n",
    "    - Optimized for speed, XGBoost can handle large datasets efficiently, making it suitable for extensive real estate datasets.\n",
    "- **Regularization:**\n",
    "    - Built-in L1 (Lasso) and L2 (Ridge) regularization helps to prevent overfitting, leading to better generalization on unseen data.\n",
    "- **Feature Importance:**\n",
    "    - Provides insights into the importance of different features, helping to identify key factors influencing housing prices.\n",
    "- **Early Stopping:**\n",
    "    - Supports early stopping, which helps to prevent overfitting by stopping the training process once the model performance on a validation set starts to deteriorate.\n",
    "- **Cross-Validation:**\n",
    "    - Integrated support for k-fold cross-validation allows for robust model evaluation and tuning.\n",
    "\n",
    "### Cons of Using XGBoost Regressor for House Price Prediction\n",
    "- **Parameter Tuning:**\n",
    "    - XGBoost has many hyperparameters that need tuning, which can be time-consuming and requires expertise to achieve optimal performance.\n",
    "- **Resource Intensive:**\n",
    "    - Training XGBoost models can be computationally intensive, requiring significant memory and processing power, especially for very large datasets.\n",
    "- **Risk of Overfitting:**\n",
    "    - Despite regularization, there is still a risk of overfitting if the model is not properly tuned or if early stopping is not correctly implemented."
   ]
  },
  {
   "cell_type": "markdown",
   "id": "cbd71da5",
   "metadata": {},
   "source": [
    "# 5. Model Results"
   ]
  },
  {
   "cell_type": "markdown",
   "id": "4932587b",
   "metadata": {},
   "source": [
    "![Metric Results](./Images/Metric_Results.png)"
   ]
  },
  {
   "cell_type": "markdown",
   "id": "a13ef485",
   "metadata": {},
   "source": [
    "### Reasoning for RMSE Metric for Evaluation**\n",
    "- **Interpretability:** RMSE is in the same unit as the target variable (price), making it easier to interpret and understand the magnitude of errors.\n",
    "- **Sensitivity to Outliers:** RMSE penalizes larger errors more than smaller errors due to the squaring of the error term. This makes RMSE a good metric when large errors are particularly undesirable.\n",
    "- **Standard in Regression:** RMSE is a commonly used metric in regression tasks, providing a standardized way to measure the performance of predictive models.\n",
    "- **Direct Comparison:** RMSE allows for direct comparison between different models and helps in selecting the model with the least error, ensuring the most accurate predictions.\n",
    "\n",
    "### Comparison with Other Metrics:\n",
    "- **Mean Absolute Error (MAE):** RMSE squares the errors before averaging, which means it penalizes larger errors more than MAE. In real estate, large prediction errors can be particularly costly or misleading, so a metric that emphasizes these is beneficial. RMSE is also more sensitive to outliers than MAE.\n",
    "- **MSE (Mean Squared Error):** While both MSE and RMSE penalize larger errors, RMSE is in the same unit as the target variable (price). This makes RMSE more interpretable than MSE, which is in squared units of the target variable."
   ]
  },
  {
   "cell_type": "markdown",
   "id": "3c3b0795",
   "metadata": {},
   "source": [
    "### Results Evaluation"
   ]
  },
  {
   "cell_type": "markdown",
   "id": "37ffa1a1",
   "metadata": {},
   "source": [
    "**Interpretation of Actual vs. Predicted Values Plot**\n",
    "- The scatter plot shows the relationship between actual house prices (x-axis) and predicted house prices (y-axis) using the XGBoost Regressor model.\n",
    "- The red line represents the ideal scenario where the predicted values perfectly match the actual values.\n",
    "- Most data points are close to the red line, indicating a strong correlation between the actual and predicted values.\n",
    "- The dense clustering of points around the red line suggests that the model is generally accurate in its predictions.\n",
    "- However, there is some dispersion, especially at higher price ranges, indicating some prediction errors.\n",
    "- Points above the red line indicate overestimation by the model, while points below it indicate underestimation.\n",
    "- The spread of points widens as actual prices increase, suggesting that the model's accuracy may decrease slightly for higher-priced properties.\n",
    "- The overall alignment of points along the red line demonstrates that the model is effective in predicting house prices.\n",
    "- The relatively small deviations from the red line indicate a low error margin, supporting the model's robustness."
   ]
  },
  {
   "cell_type": "markdown",
   "id": "3d01bf9a",
   "metadata": {},
   "source": [
    "![Model_Evaluation](./Images/Actuals_plot.png)"
   ]
  },
  {
   "cell_type": "markdown",
   "id": "3dbed99d",
   "metadata": {},
   "source": [
    "**Interpretation of Residuals Distribution Plot**\n",
    "- The histogram shows the distribution of residuals (errors) from the XGBoost Regressor model's predictions.\n",
    "- Residuals are the differences between the actual house prices and the predicted house prices.\n",
    "- The concentration of residuals around zero indicates high accuracy and consistency in the model's predictions.\n",
    "- The symmetrical distribution around zero confirms that the model does not systematically overestimate or underestimate house prices.\n",
    "- The normal distribution of residuals supports the statistical validity of the model, ensuring robust and reliable predictions.\n",
    "- While there are some outliers, their minimal presence does not substantially affect the model's overall performance."
   ]
  },
  {
   "cell_type": "markdown",
   "id": "1026f7b2",
   "metadata": {},
   "source": [
    "![Models Evaluation](./Images/Residuals.png)"
   ]
  },
  {
   "cell_type": "markdown",
   "id": "5235e118",
   "metadata": {},
   "source": [
    "## 6. Future Improvements"
   ]
  },
  {
   "cell_type": "markdown",
   "id": "5ab0cef9",
   "metadata": {},
   "source": [
    "- **Feature Engineering:**\n",
    "    - Incorporate additional features such as proximity to amenities ( parks, public transport), neighborhood crime rates, and economic indicators (employment rates).\n",
    "    - Create interaction features that might capture complex relationships between existing features, such as combining location with house attributes.\n",
    "- **Handling Imbalanced Data:**\n",
    "    - Use techniques like SMOTE (Synthetic Minority Over-sampling Technique) to balance the dataset if there are imbalances in price ranges or property types.\n",
    "    - Explore weighted loss functions in the modeling process to handle imbalance better.\n",
    "- **Model Interpretability:**\n",
    "    - Enhance model interpretability using tools like SHAP (SHapley Additive exPlanations) or LIME (Local Interpretable Model-agnostic Explanations) to understand feature contributions better."
   ]
  }
 ],
 "metadata": {
  "kernelspec": {
   "display_name": "Python 3 (ipykernel)",
   "language": "python",
   "name": "python3"
  },
  "language_info": {
   "codemirror_mode": {
    "name": "ipython",
    "version": 3
   },
   "file_extension": ".py",
   "mimetype": "text/x-python",
   "name": "python",
   "nbconvert_exporter": "python",
   "pygments_lexer": "ipython3",
   "version": "3.11.5"
  }
 },
 "nbformat": 4,
 "nbformat_minor": 5
}
