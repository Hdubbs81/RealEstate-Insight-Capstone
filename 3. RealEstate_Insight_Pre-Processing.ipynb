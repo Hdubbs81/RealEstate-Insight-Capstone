{
 "cells": [
  {
   "cell_type": "markdown",
   "id": "d239ea92",
   "metadata": {},
   "source": [
    "# 3. Pre-Processing <a id=\"data_wrangling\"></a>"
   ]
  },
  {
   "cell_type": "markdown",
   "id": "c297a1fe",
   "metadata": {},
   "source": [
    "<a id=\"contents\"></a>\n",
    "# Table of Contents  \n",
    "3.1. [Introduction](#introduction) <br>\n",
    "3.2. [Imports](#imports)  <br>\n",
    "3.3. [Data Processing](#process)<br>\n",
    "3.4. [Scale the Data](#data)<br>\n",
    "3.5. [Data Splitting](#split)<br>\n",
    "3.6. [Save Updated Dataframe](#save)"
   ]
  },
  {
   "cell_type": "markdown",
   "id": "e0152de6",
   "metadata": {},
   "source": [
    "## 3.1 Introduction<a id=\"introduction\"></a>"
   ]
  },
  {
   "cell_type": "markdown",
   "id": "a96c3980",
   "metadata": {},
   "source": [
    "The goal of this notebook is to create a cleaned development dataset to be used to complete the modeling step of my project."
   ]
  },
  {
   "cell_type": "markdown",
   "id": "4818c1ac",
   "metadata": {},
   "source": [
    "## 3.2 Imports<a id=\"imports\"></a>"
   ]
  },
  {
   "cell_type": "code",
   "execution_count": 1,
   "id": "eb61af59",
   "metadata": {},
   "outputs": [],
   "source": [
    "import numpy as np \n",
    "import pandas as pd\n",
    "from sklearn.preprocessing import StandardScaler, OneHotEncoder\n",
    "from sklearn.impute import SimpleImputer\n",
    "from sklearn.compose import ColumnTransformer\n",
    "from sklearn.pipeline import Pipeline\n",
    "from sklearn.model_selection import train_test_split"
   ]
  },
  {
   "cell_type": "code",
   "execution_count": 2,
   "id": "65cd6e27",
   "metadata": {},
   "outputs": [],
   "source": [
    "df = pd.read_csv('/Users/heatheradler/Documents/GitHub/Springboard/Springboard_Projects/Capstone 3/df_eda.csv')"
   ]
  },
  {
   "cell_type": "code",
   "execution_count": 3,
   "id": "e6a74469",
   "metadata": {},
   "outputs": [
    {
     "data": {
      "text/html": [
       "<div>\n",
       "<style scoped>\n",
       "    .dataframe tbody tr th:only-of-type {\n",
       "        vertical-align: middle;\n",
       "    }\n",
       "\n",
       "    .dataframe tbody tr th {\n",
       "        vertical-align: top;\n",
       "    }\n",
       "\n",
       "    .dataframe thead th {\n",
       "        text-align: right;\n",
       "    }\n",
       "</style>\n",
       "<table border=\"1\" class=\"dataframe\">\n",
       "  <thead>\n",
       "    <tr style=\"text-align: right;\">\n",
       "      <th></th>\n",
       "      <th>SourceDataset</th>\n",
       "      <th>RegionID</th>\n",
       "      <th>SizeRank</th>\n",
       "      <th>RegionName</th>\n",
       "      <th>StateName</th>\n",
       "      <th>Date</th>\n",
       "      <th>Value</th>\n",
       "      <th>Quarter</th>\n",
       "    </tr>\n",
       "  </thead>\n",
       "  <tbody>\n",
       "    <tr>\n",
       "      <th>0</th>\n",
       "      <td>ZORI</td>\n",
       "      <td>394913</td>\n",
       "      <td>1</td>\n",
       "      <td>New York, NY</td>\n",
       "      <td>NY</td>\n",
       "      <td>2015-01-31</td>\n",
       "      <td>2367.192976</td>\n",
       "      <td>2015Q1</td>\n",
       "    </tr>\n",
       "    <tr>\n",
       "      <th>1</th>\n",
       "      <td>ZORI</td>\n",
       "      <td>394913</td>\n",
       "      <td>1</td>\n",
       "      <td>New York, NY</td>\n",
       "      <td>NY</td>\n",
       "      <td>2015-02-28</td>\n",
       "      <td>2382.571737</td>\n",
       "      <td>2015Q1</td>\n",
       "    </tr>\n",
       "    <tr>\n",
       "      <th>2</th>\n",
       "      <td>ZORI</td>\n",
       "      <td>394913</td>\n",
       "      <td>1</td>\n",
       "      <td>New York, NY</td>\n",
       "      <td>NY</td>\n",
       "      <td>2015-03-31</td>\n",
       "      <td>2401.539081</td>\n",
       "      <td>2015Q1</td>\n",
       "    </tr>\n",
       "    <tr>\n",
       "      <th>3</th>\n",
       "      <td>ZORI</td>\n",
       "      <td>394425</td>\n",
       "      <td>50</td>\n",
       "      <td>Buffalo, NY</td>\n",
       "      <td>NY</td>\n",
       "      <td>2015-01-31</td>\n",
       "      <td>805.691732</td>\n",
       "      <td>2015Q1</td>\n",
       "    </tr>\n",
       "    <tr>\n",
       "      <th>4</th>\n",
       "      <td>ZORI</td>\n",
       "      <td>394425</td>\n",
       "      <td>50</td>\n",
       "      <td>Buffalo, NY</td>\n",
       "      <td>NY</td>\n",
       "      <td>2015-02-28</td>\n",
       "      <td>819.385346</td>\n",
       "      <td>2015Q1</td>\n",
       "    </tr>\n",
       "    <tr>\n",
       "      <th>...</th>\n",
       "      <td>...</td>\n",
       "      <td>...</td>\n",
       "      <td>...</td>\n",
       "      <td>...</td>\n",
       "      <td>...</td>\n",
       "      <td>...</td>\n",
       "      <td>...</td>\n",
       "      <td>...</td>\n",
       "    </tr>\n",
       "    <tr>\n",
       "      <th>9877</th>\n",
       "      <td>ZORDI</td>\n",
       "      <td>394326</td>\n",
       "      <td>607</td>\n",
       "      <td>Amsterdam, NY</td>\n",
       "      <td>NY</td>\n",
       "      <td>2024-05-31</td>\n",
       "      <td>138.000000</td>\n",
       "      <td>2024Q2</td>\n",
       "    </tr>\n",
       "    <tr>\n",
       "      <th>9878</th>\n",
       "      <td>ZORDI</td>\n",
       "      <td>394504</td>\n",
       "      <td>629</td>\n",
       "      <td>Cortland, NY</td>\n",
       "      <td>NY</td>\n",
       "      <td>2024-04-30</td>\n",
       "      <td>34.000000</td>\n",
       "      <td>2024Q2</td>\n",
       "    </tr>\n",
       "    <tr>\n",
       "      <th>9879</th>\n",
       "      <td>ZORDI</td>\n",
       "      <td>394504</td>\n",
       "      <td>629</td>\n",
       "      <td>Cortland, NY</td>\n",
       "      <td>NY</td>\n",
       "      <td>2024-05-31</td>\n",
       "      <td>31.000000</td>\n",
       "      <td>2024Q2</td>\n",
       "    </tr>\n",
       "    <tr>\n",
       "      <th>9880</th>\n",
       "      <td>ZORDI</td>\n",
       "      <td>395084</td>\n",
       "      <td>784</td>\n",
       "      <td>Seneca Falls, NY</td>\n",
       "      <td>NY</td>\n",
       "      <td>2024-04-30</td>\n",
       "      <td>65.000000</td>\n",
       "      <td>2024Q2</td>\n",
       "    </tr>\n",
       "    <tr>\n",
       "      <th>9881</th>\n",
       "      <td>ZORDI</td>\n",
       "      <td>395084</td>\n",
       "      <td>784</td>\n",
       "      <td>Seneca Falls, NY</td>\n",
       "      <td>NY</td>\n",
       "      <td>2024-05-31</td>\n",
       "      <td>77.000000</td>\n",
       "      <td>2024Q2</td>\n",
       "    </tr>\n",
       "  </tbody>\n",
       "</table>\n",
       "<p>9882 rows × 8 columns</p>\n",
       "</div>"
      ],
      "text/plain": [
       "     SourceDataset  RegionID  SizeRank        RegionName StateName       Date  \\\n",
       "0             ZORI    394913         1      New York, NY        NY 2015-01-31   \n",
       "1             ZORI    394913         1      New York, NY        NY 2015-02-28   \n",
       "2             ZORI    394913         1      New York, NY        NY 2015-03-31   \n",
       "3             ZORI    394425        50       Buffalo, NY        NY 2015-01-31   \n",
       "4             ZORI    394425        50       Buffalo, NY        NY 2015-02-28   \n",
       "...            ...       ...       ...               ...       ...        ...   \n",
       "9877         ZORDI    394326       607     Amsterdam, NY        NY 2024-05-31   \n",
       "9878         ZORDI    394504       629      Cortland, NY        NY 2024-04-30   \n",
       "9879         ZORDI    394504       629      Cortland, NY        NY 2024-05-31   \n",
       "9880         ZORDI    395084       784  Seneca Falls, NY        NY 2024-04-30   \n",
       "9881         ZORDI    395084       784  Seneca Falls, NY        NY 2024-05-31   \n",
       "\n",
       "            Value Quarter  \n",
       "0     2367.192976  2015Q1  \n",
       "1     2382.571737  2015Q1  \n",
       "2     2401.539081  2015Q1  \n",
       "3      805.691732  2015Q1  \n",
       "4      819.385346  2015Q1  \n",
       "...           ...     ...  \n",
       "9877   138.000000  2024Q2  \n",
       "9878    34.000000  2024Q2  \n",
       "9879    31.000000  2024Q2  \n",
       "9880    65.000000  2024Q2  \n",
       "9881    77.000000  2024Q2  \n",
       "\n",
       "[9882 rows x 8 columns]"
      ]
     },
     "execution_count": 3,
     "metadata": {},
     "output_type": "execute_result"
    }
   ],
   "source": [
    "# Convert 'Date' column to datetime format\n",
    "df['Date'] = pd.to_datetime(df['Date'])\n",
    "df.reset_index(drop=True, inplace=True)\n",
    "df.drop(columns=['Unnamed: 0'], inplace=True)\n",
    "df"
   ]
  },
  {
   "cell_type": "code",
   "execution_count": 4,
   "id": "2cfeeefb",
   "metadata": {},
   "outputs": [
    {
     "name": "stdout",
     "output_type": "stream",
     "text": [
      "<class 'pandas.core.frame.DataFrame'>\n",
      "RangeIndex: 9882 entries, 0 to 9881\n",
      "Data columns (total 8 columns):\n",
      " #   Column         Non-Null Count  Dtype         \n",
      "---  ------         --------------  -----         \n",
      " 0   SourceDataset  9882 non-null   object        \n",
      " 1   RegionID       9882 non-null   int64         \n",
      " 2   SizeRank       9882 non-null   int64         \n",
      " 3   RegionName     9882 non-null   object        \n",
      " 4   StateName      9882 non-null   object        \n",
      " 5   Date           9882 non-null   datetime64[ns]\n",
      " 6   Value          9882 non-null   float64       \n",
      " 7   Quarter        9882 non-null   object        \n",
      "dtypes: datetime64[ns](1), float64(1), int64(2), object(4)\n",
      "memory usage: 617.8+ KB\n"
     ]
    }
   ],
   "source": [
    "df.info()"
   ]
  },
  {
   "cell_type": "markdown",
   "id": "3e606589",
   "metadata": {},
   "source": [
    "## 3.3 Data Pre-processing<a id=\"process\"></a>"
   ]
  },
  {
   "cell_type": "code",
   "execution_count": 5,
   "id": "3193e886",
   "metadata": {},
   "outputs": [],
   "source": [
    "# Define categorical and numerical columns\n",
    "categorical_cols = ['RegionType', 'SourceDataset']\n",
    "numerical_cols = ['Value', 'SizeRank']  # Assuming these are the numeric features\n",
    "\n",
    "# Handling missing values\n",
    "# For numerical features, replace missing values with the median\n",
    "# For categorical features, replace missing values with the most frequent category\n",
    "numeric_imputer = SimpleImputer(strategy='median')\n",
    "categorical_imputer = SimpleImputer(strategy='most_frequent')\n",
    "\n",
    "# Encoding categorical data\n",
    "encoder = OneHotEncoder(handle_unknown='ignore')"
   ]
  },
  {
   "cell_type": "markdown",
   "id": "64909683",
   "metadata": {},
   "source": [
    "## 3.4 Scale the Data<a id=\"data\"></a>"
   ]
  },
  {
   "cell_type": "code",
   "execution_count": 6,
   "id": "d7059f8b",
   "metadata": {},
   "outputs": [],
   "source": [
    "# Scaling numerical data\n",
    "scaler = StandardScaler()\n",
    "\n",
    "# Create a preprocessing pipeline for numeric data\n",
    "numeric_pipeline = Pipeline(steps=[\n",
    "    ('imputer', numeric_imputer),\n",
    "    ('scaler', scaler)\n",
    "])\n",
    "\n",
    "# Create a preprocessing pipeline for categorical data\n",
    "categorical_pipeline = Pipeline(steps=[\n",
    "    ('imputer', categorical_imputer),\n",
    "    ('encoder', encoder)\n",
    "])\n",
    "\n",
    "# Combine preprocessing steps into a single transformer\n",
    "preprocessor = ColumnTransformer(\n",
    "    transformers=[\n",
    "        ('num', numeric_pipeline, numerical_cols),\n",
    "        ('cat', categorical_pipeline, categorical_cols)\n",
    "    ])"
   ]
  },
  {
   "cell_type": "markdown",
   "id": "db3ab3c3",
   "metadata": {},
   "source": [
    "## 3.5 Data Splitting<a id=\"split\"></a>"
   ]
  },
  {
   "cell_type": "code",
   "execution_count": 7,
   "id": "e127354d",
   "metadata": {},
   "outputs": [
    {
     "name": "stdout",
     "output_type": "stream",
     "text": [
      "Processed training features shape: (7905, 104)\n",
      "Processed test features shape: (1977, 104)\n"
     ]
    }
   ],
   "source": [
    "X = df.drop('Value', axis=1)  # Features\n",
    "y = df['Value']  # Target variable\n",
    "\n",
    "# Split the data into training and testing sets\n",
    "X_train, X_test, y_train, y_test = train_test_split(X, y, test_size=0.2, random_state=42)\n",
    "\n",
    "# Assuming you want to scale numerical features and one-hot encode categorical features\n",
    "preprocessor = ColumnTransformer(\n",
    "    transformers=[\n",
    "        ('num', StandardScaler(), ['RegionID', 'SizeRank']),  # Example numerical features\n",
    "        ('cat', OneHotEncoder(), ['SourceDataset', 'StateName', 'Quarter'])  # Example categorical features\n",
    "    ])\n",
    "\n",
    "# Fit the preprocessor on the training data and transform both training and test data\n",
    "X_train_preprocessed = preprocessor.fit_transform(X_train)\n",
    "X_test_preprocessed = preprocessor.transform(X_test)\n",
    "\n",
    "# Print shapes to verify\n",
    "print(\"Processed training features shape:\", X_train_preprocessed.shape)\n",
    "print(\"Processed test features shape:\", X_test_preprocessed.shape)"
   ]
  },
  {
   "cell_type": "markdown",
   "id": "cdf561b3",
   "metadata": {},
   "source": [
    "## 3.6 Save Updated Dataframe<a id=\"save\"></a>"
   ]
  },
  {
   "cell_type": "code",
   "execution_count": 8,
   "id": "49ef6a7d",
   "metadata": {},
   "outputs": [],
   "source": [
    "# save concatenated dataframe\n",
    "df.to_csv('/Users/heatheradler/Documents/GitHub/Springboard/Springboard_Projects/Capstone 3/df_pp.csv')"
   ]
  }
 ],
 "metadata": {
  "kernelspec": {
   "display_name": "Python 3 (ipykernel)",
   "language": "python",
   "name": "python3"
  },
  "language_info": {
   "codemirror_mode": {
    "name": "ipython",
    "version": 3
   },
   "file_extension": ".py",
   "mimetype": "text/x-python",
   "name": "python",
   "nbconvert_exporter": "python",
   "pygments_lexer": "ipython3",
   "version": "3.11.5"
  }
 },
 "nbformat": 4,
 "nbformat_minor": 5
}
